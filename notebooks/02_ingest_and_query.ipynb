{
 "cells": [
  {
   "cell_type": "markdown",
   "id": "979ef4f0",
   "metadata": {},
   "source": [
    "# 02_ingest_and_query.ipynb — Ingest & Query Check\n",
    "Notebook này giúp bạn **kiểm tra toàn bộ pipeline Ngày 2**:  \n",
    "1) Trích xuất & tiền xử lý văn bản, 2) Chunk **xuyên trang**, 3) Ingest vào **Chroma**, 4) **Query** (dense) và (tuỳ chọn) **hybrid**.\n",
    "\n",
    "> ⚠️ Yêu cầu: bạn đã cài thư viện, điền `.env`, và đặt PDF vào `data/raw/`.\n"
   ]
  },
  {
   "cell_type": "markdown",
   "id": "23dd8ba7",
   "metadata": {},
   "source": [
    "## 0. Cấu hình đường dẫn & tham số\n",
    "- `PDF_PATH`: đường dẫn tới PDF.\n",
    "- `COLLECTION_NAME`: tên collection Chroma để lưu/đọc.\n",
    "- `MAX_TOKENS`, `OVERLAP`: tham số chunk xuyên trang. Khớp với lệnh bạn đã dùng khi ingest (VD: `--max_tokens 300 --overlap 100`).\n"
   ]
  },
  {
   "cell_type": "code",
   "execution_count": null,
   "id": "4ad9e60a",
   "metadata": {},
   "outputs": [],
   "source": [
    "PDF_PATH = 'data/raw/PrisonersOfGeography-TimMarshall.pdf'  # đổi nếu cần\n",
    "COLLECTION_NAME = 'prisoners_of_geography'       # đổi nếu bạn dùng tên khác\n",
    "\n",
    "# Tham số chunk (nếu bạn muốn xem pipeline trước khi add vào Chroma)\n",
    "MAX_TOKENS = 300\n",
    "OVERLAP = 100"
   ]
  },
  {
   "cell_type": "markdown",
   "id": "6e7d3c58",
   "metadata": {},
   "source": [
    "## 1. Nạp `.env` & import các hàm tiện ích\n",
    "- Nạp biến môi trường (đường dẫn Chroma, model, v.v.).\n",
    "- Import hàm đọc PDF và các hàm tiền xử lý/chunk.\n"
   ]
  },
  {
   "cell_type": "code",
   "execution_count": null,
   "id": "2eb4de9f",
   "metadata": {},
   "outputs": [],
   "source": [
    "from dotenv import load_dotenv\n",
    "_ = load_dotenv()\n",
    "\n",
    "import os, itertools\n",
    "from src.utils.pdf_loader import extract_text_by_page\n",
    "from src.utils.text_preprocess import clean_text, split_paragraphs_v2, chunk_across_pages\n",
    "from src.utils.chroma_client import get_chroma_collection\n",
    "\n",
    "# Kiểm tra PDF tồn tại\n",
    "assert os.path.exists(PDF_PATH), f'Không tìm thấy PDF tại: {PDF_PATH}'"
   ]
  },
  {
   "cell_type": "markdown",
   "id": "5bc477c0",
   "metadata": {},
   "source": [
    "## 2. Trích xuất văn bản theo trang (preview)\n",
    "- Gọi `extract_text_by_page` để thu về danh sách `{page, text}`.\n",
    "- Xem nhanh **số trang** và nội dung **một vài trang mẫu** để đảm bảo dấu/line-break ổn.\n"
   ]
  },
  {
   "cell_type": "code",
   "execution_count": null,
   "id": "7a6ae6c9",
   "metadata": {},
   "outputs": [],
   "source": [
    "pages = extract_text_by_page(PDF_PATH)\n",
    "print('Tổng số trang:', len(pages))\n",
    "\n",
    "SAMPLE_PAGES = [1, 25, 100]  # thay đổi nếu cần\n",
    "for p in pages:\n",
    "    if p['page'] in SAMPLE_PAGES:\n",
    "        print('='*80)\n",
    "        print(f\"Trang {p['page']}\")\n",
    "        print('-'*80)\n",
    "        print((p['text'][:1000] + ' ...') if len(p['text']) > 1000 else p['text'])"
   ]
  },
  {
   "cell_type": "markdown",
   "id": "0e42c1d2",
   "metadata": {},
   "source": [
    "## 3. Tiền xử lý & tách đoạn, sau đó **chunk xuyên trang**\n",
    "- `clean_text`: gom khoảng trắng, rút gọn xuống dòng.\n",
    "- `split_paragraphs_v2`: tách **đoạn**; nếu không có `\\n\\n` thì fallback theo **câu**.\n",
    "- `chunk_across_pages`: gom **toàn bộ đoạn/câu từ nhiều trang** tới khi đạt `MAX_TOKENS`, có `OVERLAP` (chồng lặp) giữa các chunk liên tiếp.\n"
   ]
  },
  {
   "cell_type": "code",
   "execution_count": null,
   "id": "750244ee",
   "metadata": {},
   "outputs": [],
   "source": [
    "# Gom toàn bộ (page, paragraph)\n",
    "page_paragraphs = []\n",
    "for p in pages:\n",
    "    text = clean_text(p['text'])\n",
    "    paras = split_paragraphs_v2(text)\n",
    "    for para in paras:\n",
    "        page_paragraphs.append((p['page'], para))\n",
    "\n",
    "# Tạo chunk xuyên trang\n",
    "book_chunks = chunk_across_pages(page_paragraphs, max_tokens=MAX_TOKENS, overlap=OVERLAP)\n",
    "len(book_chunks)"
   ]
  },
  {
   "cell_type": "markdown",
   "id": "50570128",
   "metadata": {},
   "source": [
    "### 3.1. Xem vài chunk đầu để xác nhận `start_page/end_page` & độ dài\n",
    "- Kiểm tra xem chunk có **bắt đầu/kết thúc** đúng ranh giới trang mong đợi không.\n",
    "- Kiểm tra **số từ** để đảm bảo cỡ chunk đúng `MAX_TOKENS` (xấp xỉ).\n"
   ]
  },
  {
   "cell_type": "code",
   "execution_count": null,
   "id": "b7ee5acf",
   "metadata": {},
   "outputs": [],
   "source": [
    "def wc(s): return len((s or '').split())\n",
    "\n",
    "for i, ch in enumerate(book_chunks[:5], 1):\n",
    "    print(f\"#{i} pages {ch['start_page']}→{ch['end_page']} | words: {wc(ch['text'])}\")\n",
    "    print((ch['text'][:400] + ' ...') if len(ch['text']) > 400 else ch['text'])\n",
    "    print('-'*100)"
   ]
  },
  {
   "cell_type": "markdown",
   "id": "90df6923",
   "metadata": {},
   "source": [
    "## 4. Ingest vào Chroma (nếu bạn **chưa** ingest bằng script)\n",
    "> Nếu bạn **đã ingest bằng lệnh CLI** trước đó, bạn có thể **bỏ qua cell này**.\n",
    "\n",
    "- Tạo collection và add `documents + metadatas + ids`.\n",
    "- Metadata dùng `start_page/end_page` (và `chapter` nếu bạn có `eval/chapter_map.json`).\n"
   ]
  },
  {
   "cell_type": "code",
   "execution_count": null,
   "id": "49250ffb",
   "metadata": {},
   "outputs": [],
   "source": [
    "# (TÙY CHỌN) Ingest nhanh ngay trong notebook\n",
    "# Cảnh báo: nếu collection đã có dữ liệu, cần cẩn thận để tránh add trùng.\n",
    "DO_INGEST_HERE = False\n",
    "\n",
    "if DO_INGEST_HERE:\n",
    "    import json\n",
    "    # Tải chapter map nếu có\n",
    "    cmap_path = 'eval/chapter_map.json'\n",
    "    cmap = {}\n",
    "    if os.path.exists(cmap_path):\n",
    "        with open(cmap_path, 'r', encoding='utf-8') as f:\n",
    "            cmap = json.load(f)\n",
    "\n",
    "    def resolve_chapter_for_span(start_page: int, end_page: int, chapter_map):\n",
    "        for rng, name in chapter_map.items():\n",
    "            a, b = rng.split('-')\n",
    "            try: a, b = int(a), int(b)\n",
    "            except ValueError: continue\n",
    "            if a <= start_page <= b:\n",
    "                return name\n",
    "        return ''\n",
    "\n",
    "    col = get_chroma_collection(COLLECTION_NAME)\n",
    "    all_docs, metadatas, ids = [], [], []\n",
    "    for idx, ch in enumerate(book_chunks):\n",
    "        all_docs.append(ch['text'])\n",
    "        chap = resolve_chapter_for_span(ch['start_page'], ch['end_page'], cmap) if cmap else ''\n",
    "        metadatas.append({\n",
    "            'start_page': ch['start_page'],\n",
    "            'end_page': ch['end_page'],\n",
    "            'chapter': chap,\n",
    "            'source': os.path.basename(PDF_PATH),\n",
    "        })\n",
    "        ids.append(f\"{ch['start_page']}-{ch['end_page']}-{idx}\")\n",
    "\n",
    "    if all_docs:\n",
    "        col.add(documents=all_docs, metadatas=metadatas, ids=ids)\n",
    "        print(f\"Ingested {len(all_docs)} chunks into collection '{COLLECTION_NAME}'.\")"
   ]
  },
  {
   "cell_type": "markdown",
   "id": "d71f8537",
   "metadata": {},
   "source": [
    "## 5. Kiểm tra collection: đếm số chunk & xem mẫu metadata\n",
    "- Kết nối collection, **đếm số chunk**.\n",
    "- Lấy một vài **document + metadata** để xem nhanh.\n"
   ]
  },
  {
   "cell_type": "code",
   "execution_count": null,
   "id": "ba2e514d",
   "metadata": {},
   "outputs": [],
   "source": [
    "col = get_chroma_collection(COLLECTION_NAME)\n",
    "\n",
    "try:\n",
    "    total = col.count()\n",
    "except Exception:\n",
    "    total = len(col.get()['ids'])\n",
    "print('Tổng số chunk trong collection:', total)\n",
    "\n",
    "sample = col.get(limit=5)\n",
    "for doc, meta, _id in zip(sample['documents'], sample['metadatas'], sample['ids']):\n",
    "    print('ID:', _id)\n",
    "    print('Pages:', meta.get('start_page'), '→', meta.get('end_page'))\n",
    "    print('Chapter:', meta.get('chapter'))\n",
    "    print('Source:', meta.get('source'))\n",
    "    print('Text preview:', (doc[:400] + ' ...') if len(doc) > 400 else doc)\n",
    "    print('='*100)"
   ]
  },
  {
   "cell_type": "markdown",
   "id": "b5d91fda",
   "metadata": {},
   "source": [
    "## 6. Thống kê độ dài chunk — kiểm tra cỡ chunk thực tế\n",
    "- Cho biết **min / max / trung bình số từ** mỗi chunk.\n",
    "- Xem **Top-5 chunk dài nhất**.\n"
   ]
  },
  {
   "cell_type": "code",
   "execution_count": null,
   "id": "639092af",
   "metadata": {},
   "outputs": [],
   "source": [
    "got = col.get()\n",
    "docs = got['documents']\n",
    "metas = got['metadatas']\n",
    "\n",
    "lengths = [len((d or '').split()) for d in docs]\n",
    "print('Số chunk:', len(lengths))\n",
    "print('Min/Max/Trung bình:', min(lengths), max(lengths), round(sum(lengths)/len(lengths), 1))\n",
    "\n",
    "# Top-5 chunk dài nhất\n",
    "longest_idx = sorted(range(len(lengths)), key=lambda i: lengths[i], reverse=True)[:5]\n",
    "for i in longest_idx:\n",
    "    m = metas[i]\n",
    "    print(f\"idx={i} | words={lengths[i]} | pages {m.get('start_page')}→{m.get('end_page')} | chapter={m.get('chapter')}\")"
   ]
  },
  {
   "cell_type": "markdown",
   "id": "61bbfe40",
   "metadata": {},
   "source": [
    "## 7. Sắp xếp theo trang & kiểm tra **overlap** (tham khảo)\n",
    "- Sắp xếp chunk theo `(start_page, end_page)` để đảm bảo **trật tự hợp lý**.\n",
    "- Ước lượng mức **overlap** thô giữa 2 chunk liên tiếp (so sánh 100 từ cuối/đầu).\n"
   ]
  },
  {
   "cell_type": "code",
   "execution_count": null,
   "id": "0b8e7c11",
   "metadata": {},
   "outputs": [],
   "source": [
    "rows = []\n",
    "for d, m in zip(docs, metas):\n",
    "    rows.append({\n",
    "        'text': d,\n",
    "        'start': m.get('start_page', 0),\n",
    "        'end': m.get('end_page', 0),\n",
    "        'chapter': m.get('chapter', '')\n",
    "    })\n",
    "rows = sorted(rows, key=lambda r: (r['start'], r['end']))\n",
    "\n",
    "def head_words(s, n=100): \n",
    "    w = (s or '').split()\n",
    "    return w[:n]\n",
    "\n",
    "def tail_words(s, n=100): \n",
    "    w = (s or '').split()\n",
    "    return w[-n:]\n",
    "\n",
    "def overlap_ratio(a_tail, b_head):\n",
    "    if not a_tail or not b_head: return 0.0\n",
    "    set_a, set_b = set(a_tail), set(b_head)\n",
    "    inter = len(set_a & set_b)\n",
    "    return inter / max(1, len(set_a))\n",
    "\n",
    "for k in range(min(10, len(rows)-1)):\n",
    "    a, b = rows[k], rows[k+1]\n",
    "    r = overlap_ratio(tail_words(a['text'], 100), head_words(b['text'], 100))\n",
    "    print(f\"Pair {k}: pages ({a['start']}→{a['end']}) -> ({b['start']}→{b['end']}) | overlap≈{r:.2f}\")"
   ]
  },
  {
   "cell_type": "markdown",
   "id": "82bdd767",
   "metadata": {},
   "source": [
    "## 8. Thử **query dense** trực tiếp với Chroma\n",
    "- Gọi `collection.query(query_texts=[q], n_results=k)` để xem **top-k context** có đúng chương/trang.\n",
    "- Đây **chưa phải** hybrid; chỉ là kiểm tra nhanh chất lượng embeddings.\n"
   ]
  },
  {
   "cell_type": "code",
   "execution_count": null,
   "id": "5e3f12ca",
   "metadata": {},
   "outputs": [],
   "source": [
    "q = \"Ví dụ: Hỏi một câu về địa chính trị Nga\"  # thay bằng câu của bạn\n",
    "k = 5\n",
    "res = col.query(query_texts=[q], n_results=k)\n",
    "for i, (doc, meta) in enumerate(zip(res['documents'][0], res['metadatas'][0]), 1):\n",
    "    print(f\"#{i} pages {meta.get('start_page')}→{meta.get('end_page')} | {meta.get('chapter')}\")\n",
    "    print((doc[:300] + ' ...') if len(doc) > 300 else doc)\n",
    "    print('-'*80)"
   ]
  },
  {
   "cell_type": "markdown",
   "id": "68fe622f",
   "metadata": {},
   "source": [
    "## 9. (Tuỳ chọn) Thử **hybrid retrieve** nếu đã có `rag_pipeline.hybrid_retrieve`\n",
    "- Hybrid = **BM25 (sparse)** + **Dense (Chroma)**, thường cho độ phủ tốt hơn với **từ khoá địa danh**.\n",
    "- Nếu import lỗi, nghĩa là file `rag_pipeline.py` của bạn chưa có hàm này (bỏ qua cell).\n"
   ]
  },
  {
   "cell_type": "code",
   "execution_count": null,
   "id": "98a75a95",
   "metadata": {},
   "outputs": [],
   "source": [
    "try:\n",
    "    from src.rag_pipeline import hybrid_retrieve\n",
    "    q = \"Ví dụ: Vì sao vị trí địa lý ảnh hưởng đến chiến lược của Nga?\"\n",
    "    hits = hybrid_retrieve(q, k_dense=5, k_sparse=5, collection_name=COLLECTION_NAME)\n",
    "    for i, h in enumerate(hits, 1):\n",
    "        meta = h.get('meta', {})\n",
    "        print(f\"#{i} src={h.get('src')} norm={round(h.get('norm', 3), 3)} | pages {meta.get('start_page')}→{meta.get('end_page')} | {meta.get('chapter')}\")\n",
    "        print((h['text'][:300] + ' ...') if len(h['text']) > 300 else h['text'])\n",
    "        print('-'*80)\n",
    "except Exception as e:\n",
    "    print('Không thể chạy hybrid_retrieve (bỏ qua nếu bạn chưa triển khai):', e)"
   ]
  },
  {
   "cell_type": "markdown",
   "id": "cae7e793",
   "metadata": {},
   "source": [
    "---\n",
    "### Ghi chú cuối\n",
    "- Nếu kết quả **không đúng chương/trang** như mong muốn:\n",
    "  - Thử `MAX_TOKENS` {250–450} và `OVERLAP` {80–120}.\n",
    "  - Kiểm tra `eval/chapter_map.json` có khớp bản PDF của bạn không.\n",
    "  - Với câu “tên riêng/địa danh”, **hybrid** thường giúp kết quả ổn định hơn.\n"
   ]
  }
 ],
 "metadata": {},
 "nbformat": 4,
 "nbformat_minor": 5
}
