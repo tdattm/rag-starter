{
 "cells": [
  {
   "cell_type": "markdown",
   "id": "3ccd593a",
   "metadata": {},
   "source": [
    "# 01_extract_text.ipynb — Kiểm tra trích xuất & tiền xử lý"
   ]
  },
  {
   "cell_type": "markdown",
   "id": "45ceec25",
   "metadata": {},
   "source": [
    "**Bước 1:** Chỉnh `PDF_PATH` tới file PDF của bạn trong `data/raw/`."
   ]
  },
  {
   "cell_type": "code",
   "execution_count": 6,
   "id": "ced3c9b8",
   "metadata": {},
   "outputs": [],
   "source": [
    "PDF_PATH = '../data/raw/PrisonersOfGeography-TimMarshall.pdf' \n",
    "SAMPLE_PAGES = [1, 25, 100]"
   ]
  },
  {
   "cell_type": "markdown",
   "id": "2114b9df",
   "metadata": {},
   "source": [
    "**Bước 2:** Import các hàm util"
   ]
  },
  {
   "cell_type": "code",
   "execution_count": 3,
   "id": "a64bfc55",
   "metadata": {},
   "outputs": [],
   "source": [
    "import sys\n",
    "import os\n",
    "\n",
    "# Thêm thư mục gốc của dự án vào sys.path\n",
    "project_root = os.path.abspath(os.path.join(os.getcwd(), '..'))\n",
    "if project_root not in sys.path:\n",
    "    sys.path.append(project_root)"
   ]
  },
  {
   "cell_type": "code",
   "execution_count": 4,
   "id": "e63ac0cd",
   "metadata": {},
   "outputs": [],
   "source": [
    "from src.utils.pdf_loader import extract_text_by_page\n",
    "from src.utils.text_preprocess import clean_text, split_paragraphs, chunk_by_tokens"
   ]
  },
  {
   "cell_type": "markdown",
   "id": "f47b952c",
   "metadata": {},
   "source": [
    "**Bước 3:** Trích xuất & xem nhanh"
   ]
  },
  {
   "cell_type": "code",
   "execution_count": 7,
   "id": "25d5509d",
   "metadata": {},
   "outputs": [
    {
     "data": {
      "text/plain": [
       "350"
      ]
     },
     "execution_count": 7,
     "metadata": {},
     "output_type": "execute_result"
    }
   ],
   "source": [
    "pages = extract_text_by_page(PDF_PATH)\n",
    "len(pages)"
   ]
  },
  {
   "cell_type": "code",
   "execution_count": 8,
   "id": "af9ed6d4",
   "metadata": {},
   "outputs": [
    {
     "name": "stdout",
     "output_type": "stream",
     "text": [
      "================================================================================\n",
      "Trang 1 — đoạn: 1, chunk: 1\n",
      "--------------------------------------------------------------------------------\n",
      "TIM MARSHALL\n",
      "Phan Linh Lan dịch \n",
      "—★—\n",
      "NHỮNG TÙ NHÂN CỦA ĐỊA LÝ\n",
      "• PRISONERS OF GEOGRAPHY •\n",
      "NHÃ NAM & NXB HỘI NHÀ VĂN\n",
      "|\n",
      "\n",
      "\n",
      "================================================================================\n",
      "Trang 25 — đoạn: 1, chunk: 1\n",
      "--------------------------------------------------------------------------------\n",
      "được dãy Ural này, nhưng bạn còn phải đi 4.500 dặm nữa trước khi\n",
      "đến được eo biển Bering, để có thể trông thấy bà Palin, ở phía đối\n",
      "diện, là Alaska thuộc Hoa Kỳ.\n",
      "Chẳng bao lâu sau khi Liên Xô sụp đổ, tôi đã đến Ural, tại điểm\n",
      "mốc nơi châu Âu trở thành châu Á, dẫn theo một tổ quay phim\n",
      "người Nga. Người quay phim là một cựu binh trong nghề làm phim,\n",
      "tóc hoa râm, lầm lì, khắc kỷ, và là con trai của một người quay phim\n",
      "của Hồng quân, đã từng quay rất nhiều thước phim trong cuộc vây\n",
      "hãm Stalingrad của người Đức. Tôi hỏi ông, “Vậy ông là người châu\n",
      "Âu hay là người châu Á?” Ông ngẫm nghĩ một vài giây, rồi trả lời,\n",
      "“Đều không phải - tôi là người Nga”.\n",
      "Vì nhiều lý do, Nga không phải là một thế lực châu Á, bất kể đặc\n",
      "tính Âu châu của nước này là nhiều hay ít. Mặc dù 75% lãnh thổ của\n",
      "nó nằm ở châu Á, nhưng chỉ có 22% dân số sống tại đó. Siberia có\n",
      "thể là “chiếc rương báu vật” của nước Nga, chứa đựng phần lớn tài\n",
      "nguyên khoáng sản, dầu khí, nhưng đó là một vùng đất khắc nghiệt,\n",
      "đóng băng hàng tháng liền, với những khu rừng bạt ngàn (rừng\n",
      "taiga), đất đai quá cằn cỗi không thể canh tác và những vùng đầm\n",
      "lầy rộng lớn. Chỉ có hai mạng lưới đường sắt chạy từ tây sang đông\n",
      "- Tuyến đường Xuyên Siberia và Tuyến đường Baikal-Amur. Chỉ có\n",
      "vài tuyến đường vận chuyển bắc nam và do đó không có cách nào\n",
      "dễ dàng để Nga phát huy quyền lực của mình về phía nam tới Mông\n",
      "cổ hoặc Trung Quốc hiện đại: họ thiếu nguồn nhân lực và đường\n",
      "tiếp vận để làm điều đó.\n",
      "Trung Quốc rất có thể rốt cuộc cũng kiểm soát được một phần\n",
      "của Siberia trong tương lai xa, nhưng điều này có thể là nhờ vào tỉ lệ\n",
      "\n",
      "\n",
      "================================================================================\n",
      "Trang 100 — đoạn: 1, chunk: 1\n",
      "--------------------------------------------------------------------------------\n",
      "trước. Ngày nay không có thế lực lớn nào bảo trợ cho Cuba, và\n",
      "dường như Cuba lại bị đặt dưới ảnh hưởng văn hóa, và có lẽ cả\n",
      "chính trị, của Hoa Kỳ một lần nữa.\n",
      "Hoa Kỳ nhanh chóng hành động. Trong cùng một năm đó, họ siết\n",
      "chặt Cuba, eo biển Florida và ở trong một chừng mực lớn, toàn\n",
      "vùng biển Caribbean. Hoa Kỳ cũng sáp nhập đảo Hawaii trên Thái\n",
      "Bình Dương, do đó che chắn cửa ngõ đến vùng bờ biển phía tây\n",
      "của mình. Năm 1903, Hoa Kỳ đã ký một hiệp ước thuê độc quyền\n",
      "kênh đào Panama. Thương mại đang bùng nổ.\n",
      "Đã đến lúc Hoa Kỳ cho thấy họ không chỉ đơn thuần bước lên\n",
      "sân khấu thế giới, và còn cách nào tốt hơn để chứng minh điều đó\n",
      "bằng một màn phô diễn thế lực quân sự vòng quanh Trái đất.\n",
      "Tổng thống Theodore Roosevelt có lối phát biểu tương đối nhẹ\n",
      "nhàng - nhưng về bản chất, ông ấy chở một cây gậy khổng lồ đi thị\n",
      "uy khắp thế giới. Mười sáu chiến hạm hải quân từ lực lượng Đại Tây\n",
      "Dương khởi hành tại Hoa Kỳ vào tháng Mười hai năm 1907. Thân\n",
      "tàu được sơn màu trắng, màu thời bình của hải quân, và ví dụ ấn\n",
      "tượng về tín hiệu ngoại giao này trở nên nổi tiếng dưới tên gọi “Hạm\n",
      "đội Trắng vĩ đại”. Trong mười bốn tháng tiếp sau, hạm đội đã viếng\n",
      "thăm hai mươi hải cảng, bao gồm các cảng ở Brazil, Chile, Mexico,\n",
      "New Zealand, Úc, Philippines, Nhật Bản, Trung Quốc, Ý và Ai Cập.\n",
      "Một trong số những hải cảng tối quan trọng này là Nhật Bản, và\n",
      "nước này đã được thông báo rằng, trong những tình huống nguy\n",
      "cấp, hạm đội Đại Tây Dương của Hoa Kỳ có thể sẽ được điều động\n",
      "đến Thái Bình Dương. Chuyến hải trình này, một sự kết hợp của\n",
      "sức mạnh cả nhu lẫn cương, diễn ra trước khi có thuật ngữ quân sự\n",
      "\n",
      "\n"
     ]
    }
   ],
   "source": [
    "for p in pages:\n",
    "    if p['page'] in SAMPLE_PAGES:\n",
    "        text = clean_text(p['text'])\n",
    "        paras = split_paragraphs(text)\n",
    "        chunks = chunk_by_tokens(paras, max_tokens=600, overlap=100)\n",
    "        print('='*80)\n",
    "        print(f\"Trang {p['page']} — đoạn: {len(paras)}, chunk: {len(chunks)}\")\n",
    "        print('-'*80)\n",
    "        print('\\n\\n'.join(paras[:3]))\n",
    "        print('\\n')"
   ]
  },
  {
   "cell_type": "markdown",
   "id": "a125ba65",
   "metadata": {},
   "source": [
    "> Nếu text lỗi bố cục, thử `page.get_text('blocks')` hoặc dùng `pdfplumber` để cải thiện."
   ]
  }
 ],
 "metadata": {
  "kernelspec": {
   "display_name": "rag-starter",
   "language": "python",
   "name": "python3"
  },
  "language_info": {
   "codemirror_mode": {
    "name": "ipython",
    "version": 3
   },
   "file_extension": ".py",
   "mimetype": "text/x-python",
   "name": "python",
   "nbconvert_exporter": "python",
   "pygments_lexer": "ipython3",
   "version": "3.10.18"
  }
 },
 "nbformat": 4,
 "nbformat_minor": 5
}
